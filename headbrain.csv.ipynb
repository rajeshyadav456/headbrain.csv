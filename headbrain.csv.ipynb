{
 "cells": [
  {
   "cell_type": "code",
   "execution_count": 7,
   "metadata": {},
   "outputs": [
    {
     "data": {
      "text/html": [
       "<div>\n",
       "<style scoped>\n",
       "    .dataframe tbody tr th:only-of-type {\n",
       "        vertical-align: middle;\n",
       "    }\n",
       "\n",
       "    .dataframe tbody tr th {\n",
       "        vertical-align: top;\n",
       "    }\n",
       "\n",
       "    .dataframe thead th {\n",
       "        text-align: right;\n",
       "    }\n",
       "</style>\n",
       "<table border=\"1\" class=\"dataframe\">\n",
       "  <thead>\n",
       "    <tr style=\"text-align: right;\">\n",
       "      <th></th>\n",
       "      <th>Gender</th>\n",
       "      <th>AgeRange</th>\n",
       "      <th>HeadSize</th>\n",
       "      <th>BrainWeight</th>\n",
       "    </tr>\n",
       "  </thead>\n",
       "  <tbody>\n",
       "    <tr>\n",
       "      <th>0</th>\n",
       "      <td>1</td>\n",
       "      <td>1</td>\n",
       "      <td>4512</td>\n",
       "      <td>1530</td>\n",
       "    </tr>\n",
       "    <tr>\n",
       "      <th>1</th>\n",
       "      <td>1</td>\n",
       "      <td>1</td>\n",
       "      <td>3738</td>\n",
       "      <td>1297</td>\n",
       "    </tr>\n",
       "    <tr>\n",
       "      <th>2</th>\n",
       "      <td>1</td>\n",
       "      <td>1</td>\n",
       "      <td>4261</td>\n",
       "      <td>1335</td>\n",
       "    </tr>\n",
       "    <tr>\n",
       "      <th>3</th>\n",
       "      <td>1</td>\n",
       "      <td>1</td>\n",
       "      <td>3777</td>\n",
       "      <td>1282</td>\n",
       "    </tr>\n",
       "    <tr>\n",
       "      <th>4</th>\n",
       "      <td>1</td>\n",
       "      <td>1</td>\n",
       "      <td>4177</td>\n",
       "      <td>1590</td>\n",
       "    </tr>\n",
       "    <tr>\n",
       "      <th>...</th>\n",
       "      <td>...</td>\n",
       "      <td>...</td>\n",
       "      <td>...</td>\n",
       "      <td>...</td>\n",
       "    </tr>\n",
       "    <tr>\n",
       "      <th>232</th>\n",
       "      <td>2</td>\n",
       "      <td>2</td>\n",
       "      <td>3214</td>\n",
       "      <td>1110</td>\n",
       "    </tr>\n",
       "    <tr>\n",
       "      <th>233</th>\n",
       "      <td>2</td>\n",
       "      <td>2</td>\n",
       "      <td>3394</td>\n",
       "      <td>1215</td>\n",
       "    </tr>\n",
       "    <tr>\n",
       "      <th>234</th>\n",
       "      <td>2</td>\n",
       "      <td>2</td>\n",
       "      <td>3233</td>\n",
       "      <td>1104</td>\n",
       "    </tr>\n",
       "    <tr>\n",
       "      <th>235</th>\n",
       "      <td>2</td>\n",
       "      <td>2</td>\n",
       "      <td>3352</td>\n",
       "      <td>1170</td>\n",
       "    </tr>\n",
       "    <tr>\n",
       "      <th>236</th>\n",
       "      <td>2</td>\n",
       "      <td>2</td>\n",
       "      <td>3391</td>\n",
       "      <td>1120</td>\n",
       "    </tr>\n",
       "  </tbody>\n",
       "</table>\n",
       "<p>237 rows × 4 columns</p>\n",
       "</div>"
      ],
      "text/plain": [
       "     Gender  AgeRange  HeadSize  BrainWeight\n",
       "0         1         1      4512         1530\n",
       "1         1         1      3738         1297\n",
       "2         1         1      4261         1335\n",
       "3         1         1      3777         1282\n",
       "4         1         1      4177         1590\n",
       "..      ...       ...       ...          ...\n",
       "232       2         2      3214         1110\n",
       "233       2         2      3394         1215\n",
       "234       2         2      3233         1104\n",
       "235       2         2      3352         1170\n",
       "236       2         2      3391         1120\n",
       "\n",
       "[237 rows x 4 columns]"
      ]
     },
     "execution_count": 7,
     "metadata": {},
     "output_type": "execute_result"
    }
   ],
   "source": [
    "import pandas as pd\n",
    "df=pd.read_csv('https://raw.githubusercontent.com/dsrscientist/dataset1/master/headbrain.csv')\n",
    "df"
   ]
  },
  {
   "cell_type": "code",
   "execution_count": 8,
   "metadata": {},
   "outputs": [
    {
     "data": {
      "text/html": [
       "<div>\n",
       "<style scoped>\n",
       "    .dataframe tbody tr th:only-of-type {\n",
       "        vertical-align: middle;\n",
       "    }\n",
       "\n",
       "    .dataframe tbody tr th {\n",
       "        vertical-align: top;\n",
       "    }\n",
       "\n",
       "    .dataframe thead th {\n",
       "        text-align: right;\n",
       "    }\n",
       "</style>\n",
       "<table border=\"1\" class=\"dataframe\">\n",
       "  <thead>\n",
       "    <tr style=\"text-align: right;\">\n",
       "      <th></th>\n",
       "      <th>Gender</th>\n",
       "      <th>AgeRange</th>\n",
       "      <th>HeadSize</th>\n",
       "      <th>BrainWeight</th>\n",
       "    </tr>\n",
       "  </thead>\n",
       "  <tbody>\n",
       "    <tr>\n",
       "      <th>0</th>\n",
       "      <td>1</td>\n",
       "      <td>1</td>\n",
       "      <td>4512</td>\n",
       "      <td>1530</td>\n",
       "    </tr>\n",
       "    <tr>\n",
       "      <th>1</th>\n",
       "      <td>1</td>\n",
       "      <td>1</td>\n",
       "      <td>3738</td>\n",
       "      <td>1297</td>\n",
       "    </tr>\n",
       "    <tr>\n",
       "      <th>2</th>\n",
       "      <td>1</td>\n",
       "      <td>1</td>\n",
       "      <td>4261</td>\n",
       "      <td>1335</td>\n",
       "    </tr>\n",
       "    <tr>\n",
       "      <th>3</th>\n",
       "      <td>1</td>\n",
       "      <td>1</td>\n",
       "      <td>3777</td>\n",
       "      <td>1282</td>\n",
       "    </tr>\n",
       "    <tr>\n",
       "      <th>4</th>\n",
       "      <td>1</td>\n",
       "      <td>1</td>\n",
       "      <td>4177</td>\n",
       "      <td>1590</td>\n",
       "    </tr>\n",
       "  </tbody>\n",
       "</table>\n",
       "</div>"
      ],
      "text/plain": [
       "   Gender  AgeRange  HeadSize  BrainWeight\n",
       "0       1         1      4512         1530\n",
       "1       1         1      3738         1297\n",
       "2       1         1      4261         1335\n",
       "3       1         1      3777         1282\n",
       "4       1         1      4177         1590"
      ]
     },
     "execution_count": 8,
     "metadata": {},
     "output_type": "execute_result"
    }
   ],
   "source": [
    "df.head()"
   ]
  },
  {
   "cell_type": "code",
   "execution_count": 9,
   "metadata": {},
   "outputs": [
    {
     "name": "stdout",
     "output_type": "stream",
     "text": [
      "<class 'pandas.core.frame.DataFrame'>\n",
      "RangeIndex: 237 entries, 0 to 236\n",
      "Data columns (total 4 columns):\n",
      " #   Column       Non-Null Count  Dtype\n",
      "---  ------       --------------  -----\n",
      " 0   Gender       237 non-null    int64\n",
      " 1   AgeRange     237 non-null    int64\n",
      " 2   HeadSize     237 non-null    int64\n",
      " 3   BrainWeight  237 non-null    int64\n",
      "dtypes: int64(4)\n",
      "memory usage: 7.5 KB\n"
     ]
    }
   ],
   "source": [
    "df.info()"
   ]
  },
  {
   "cell_type": "code",
   "execution_count": 13,
   "metadata": {},
   "outputs": [
    {
     "data": {
      "image/png": "[encoded data removed]",
      "text/plain": [
       "<Figure size 432x288 with 2 Axes>"
      ]
     },
     "metadata": {
      "needs_background": "light"
     },
     "output_type": "display_data"
    }
   ],
   "source": [
    "import seaborn as sns\n",
    "import matplotlib.pyplot as plt\n",
    "sns.heatmap(df.isnull())\n",
    "plt.show()"
   ]
  },
  {
   "cell_type": "code",
   "execution_count": 15,
   "metadata": {},
   "outputs": [
    {
     "data": {
      "text/plain": [
       "(237, 4)"
      ]
     },
     "execution_count": 15,
     "metadata": {},
     "output_type": "execute_result"
    }
   ],
   "source": [
    "df.shape"
   ]
  },
  {
   "cell_type": "code",
   "execution_count": 22,
   "metadata": {},
   "outputs": [],
   "source": [
    "X = df['HeadSize'].values\n",
    "Y =  df['BrainWeight'].values"
   ]
  },
  {
   "cell_type": "code",
   "execution_count": 23,
   "metadata": {},
   "outputs": [
    {
     "data": {
      "text/plain": [
       "(237,)"
      ]
     },
     "execution_count": 23,
     "metadata": {},
     "output_type": "execute_result"
    }
   ],
   "source": [
    "X.shape"
   ]
  },
  {
   "cell_type": "code",
   "execution_count": 24,
   "metadata": {},
   "outputs": [
    {
     "data": {
      "text/plain": [
       "(237,)"
      ]
     },
     "execution_count": 24,
     "metadata": {},
     "output_type": "execute_result"
    }
   ],
   "source": [
    "Y.shape"
   ]
  },
  {
   "cell_type": "code",
   "execution_count": 30,
   "metadata": {},
   "outputs": [
    {
     "name": "stdout",
     "output_type": "stream",
     "text": [
      "0.28146265041713114 , 260.0405213179042\n",
      "0.27944720086046 , 267.36464799883413\n",
      "0.21375579817788407 , 506.08665098948643\n",
      "0.20999399289007883 , 519.7570196601783\n",
      "0.28035789953905893 , 264.05517668602647\n",
      "0.27934490207246887 , 267.73640093111294\n",
      "0.2868130790498729 , 240.59710881781712\n",
      "0.28712689411350895 , 239.45670752479214\n",
      "0.2860485884126271 , 243.3752613421707\n",
      "0.2844763439317853 , 249.08878451766395\n",
      "0.2717976737725513 , 295.16296488332296\n",
      "0.2717081005564223 , 295.48847319484366\n",
      "0.27194237715992337 , 294.63711399473857\n",
      "0.294239971714564 , 213.60784354852944\n",
      "0.28212866077126314 , 257.6202453113292\n",
      "0.28795896441154306 , 236.43297108342654\n",
      "0.28099537273250413 , 261.73860448056723\n",
      "0.27684883344479927 , 276.80709326019394\n",
      "0.23361861275900037 , 433.90535042039824\n",
      "0.2169540767774588 , 494.46413354832475\n",
      "0.21854175193534553 , 488.69453542266695\n",
      "0.2082100682197233 , 526.2397868580338\n",
      "0.2060808674661902 , 533.9772844284341\n",
      "0.20545411005461087 , 536.2549155730214\n",
      "0.23469201606689213 , 430.00461185777533\n",
      "0.24017027603760743 , 410.0966613542379\n",
      "0.2482765438943977 , 380.63855236998575\n",
      "0.2555620705353283 , 354.16301003808144\n",
      "0.25323936786980883 , 362.60369192371286\n",
      "0.253250438600284 , 362.56346098258985\n",
      "0.2531577842310536 , 362.9001661784797\n",
      "0.25607260276216254 , 352.3077402340547\n",
      "0.25313810336145964 , 362.971686292501\n",
      "0.25222454028063923 , 366.2915668188092\n",
      "0.2535349877874303 , 361.52941163775927\n",
      "0.25032482067760187 , 373.195131824858\n",
      "0.24846079372565047 , 379.96899003806413\n",
      "0.24910768164977767 , 377.6182047807556\n",
      "0.24790147279455826 , 382.00155758164533\n",
      "0.24785392986192992 , 382.1743281976105\n",
      "0.24719513358191483 , 384.5683883197231\n",
      "0.2459364560371903 , 389.1424118955006\n",
      "0.25268135387029095 , 364.63151008898194\n",
      "0.2581684026802432 , 344.6916210178247\n",
      "0.2581083924691333 , 344.90969761858287\n",
      "0.25995376782428736 , 338.2036191507408\n",
      "0.2638769516510518 , 323.94680223131536\n",
      "0.26077605658878733 , 335.2154287196936\n",
      "0.2607978639059909 , 335.1361811130038\n",
      "0.26081505338682087 , 335.0737146847266\n",
      "0.2570162463824043 , 348.87854728133345\n",
      "0.2575049718168502 , 347.10252317682216\n",
      "0.24956908558925858 , 375.9414667583861\n",
      "0.24957187324221985 , 375.93133645104933\n",
      "0.2505005592590964 , 372.55649930273273\n",
      "0.25076130715696654 , 371.6089436422769\n",
      "0.24974861033473372 , 375.28907534830626\n",
      "0.25769800897057943 , 346.4010277891757\n",
      "0.2567576793563458 , 349.8181776720297\n",
      "0.25650673458150103 , 350.73010886613827\n",
      "0.2582258341297552 , 344.4829156149518\n",
      "0.25934162626540963 , 340.428136409951\n",
      "0.246855694207316 , 385.80190814254786\n",
      "0.24965810994363632 , 375.61795300583776\n",
      "0.2510563407760134 , 370.5367939603958\n",
      "0.2530340806040338 , 363.34970411515724\n",
      "0.25139738662318406 , 369.29743622980163\n",
      "0.25288292305091026 , 363.89900938761707\n",
      "0.2546333476737726 , 357.5379810796511\n",
      "0.2511067782592215 , 370.3535045720504\n",
      "0.25384814557645113 , 360.3913988751393\n",
      "0.2547493040856606 , 357.1165964573853\n",
      "0.2537188332698067 , 360.86131870624206\n",
      "0.2550884666212322 , 355.88408266524914\n",
      "0.2537478730339442 , 360.75578844842767\n",
      "0.25424572332322204 , 358.9466046984603\n",
      "0.2544709156516549 , 358.12825767729237\n",
      "0.25500433887018686 , 356.18980220260903\n",
      "0.25261410980083476 , 364.8758744699252\n",
      "0.2523303467639307 , 365.9070669514098\n",
      "0.2510384485157346 , 370.6018142832595\n",
      "0.2525640918271337 , 365.0576393642623\n",
      "0.24989125474300602 , 374.770706772395\n",
      "0.24999138237945326 , 374.40684378650474\n",
      "0.24891765108642608 , 378.30877424434186\n",
      "0.250115710873326 , 373.9550350889567\n",
      "0.25205218566790416 , 366.9179020270192\n",
      "0.25214188627729417 , 366.59193076946303\n",
      "0.2518684480445171 , 367.58560299987937\n",
      "0.2536120941838143 , 361.24920764398667\n",
      "0.25188725063152156 , 367.5172745573767\n",
      "0.2521380326410079 , 366.60593485120717\n",
      "0.252019921169 , 367.0351509437626\n",
      "0.2519519980662558 , 367.28198292594436\n",
      "0.25190808744226056 , 367.4415537629892\n",
      "0.25034330251594894 , 373.12796898026954\n",
      "0.2503721695267258 , 373.02306650670994\n",
      "0.25152391382678396 , 368.8376374396597\n",
      "0.2514599307857189 , 369.07015127094894\n",
      "0.2511740633710245 , 370.1089910435652\n",
      "0.2514632829232464 , 369.05796963146213\n",
      "0.2528045798162629 , 364.18370804120116\n",
      "0.25687673484771895 , 349.38553102106744\n",
      "0.2569329719856605 , 349.1811657363628\n",
      "0.256920579792085 , 349.2261988632407\n",
      "0.25689500280218264 , 349.3191454287063\n",
      "0.25797792078619286 , 345.3838306133615\n",
      "0.2579180375027814 , 345.6014459599346\n",
      "0.2580017612057671 , 345.29719472981367\n",
      "0.2648006884820674 , 320.5899503826522\n",
      "0.26484407022282935 , 320.43230150281386\n",
      "0.26487073064358285 , 320.33541775877814\n",
      "0.2647532293582622 , 320.76241643806145\n",
      "0.26470736761244373 , 320.92907763534674\n",
      "0.26351688792382116 , 325.2552707775591\n",
      "0.26327609192872686 , 326.130321391698\n",
      "0.26333701099639006 , 325.90894201389494\n",
      "0.26192311518574396 , 331.0470274581726\n",
      "0.2605102480955331 , 336.1813745410699\n",
      "0.2593340457514167 , 340.45568393383064\n",
      "0.26005367645765043 , 337.8405520202102\n",
      "0.2540089174045731 , 359.80715540846836\n",
      "0.2510098358165885 , 370.7057925904991\n",
      "0.2511247178086617 , 370.2883124007733\n",
      "0.24914677301382462 , 377.47614709369395\n",
      "0.24940671607675025 , 376.5315161966346\n",
      "0.25077424972604156 , 371.56191045547826\n",
      "0.2504829874156042 , 372.62035523369786\n",
      "0.2486898661286105 , 379.13654285880784\n",
      "0.24860168801672575 , 379.4569813732779\n",
      "0.24856406649977714 , 379.593697648388\n",
      "0.2481184570279222 , 381.21303870869133\n",
      "0.2496120176678089 , 375.7854519472303\n",
      "0.24964683873855542 , 375.65891246998615\n",
      "0.2522455110401543 , 366.2153592556999\n",
      "0.2522234235210775 , 366.29562511363235\n",
      "0.2516952508204127 , 368.21500025069463\n",
      "0.25230501465262106 , 365.99912363013584\n",
      "0.25423780090850495 , 358.9753946866864\n",
      "0.2551591776302298 , 355.62711945526917\n",
      "0.25514966186481763 , 355.6616996664752\n",
      "0.25517317838339804 , 355.57624083640565\n",
      "0.25436297367631266 , 358.52051790478345\n",
      "0.2537885387286637 , 360.6080096569875\n",
      "0.25355218315276684 , 361.46692382523486\n",
      "0.25395724562855476 , 359.99493020647026\n",
      "0.25495034371072356 , 356.38602015644335\n",
      "0.2539537937413776 , 360.0074743353422\n",
      "0.25299662762602354 , 363.48580792118764\n",
      "0.2523808475626163 , 365.7235474751533\n",
      "0.25134007719946444 , 369.50569819197494\n",
      "0.25065978261669114 , 371.97788296489057\n",
      "0.2507202064653808 , 371.7583032086583\n",
      "0.2511237417899473 , 370.291859244545\n",
      "0.25150206572851586 , 368.9170332443939\n",
      "0.2513313970244848 , 369.53724187460045\n",
      "0.25010724903360043 , 373.9857853431115\n",
      "0.24987394551492922 , 374.8336083611566\n",
      "0.2485556559708946 , 379.62426143937216\n",
      "0.24770532429679554 , 382.7143595672535\n",
      "0.24943571456200198 , 376.42613594594275\n",
      "0.25080349024848536 , 371.45565064367304\n",
      "0.2500017957419118 , 374.3690017152069\n",
      "0.2519547867404979 , 367.27184890728154\n",
      "0.2517526833389123 , 368.0062909631297\n",
      "0.250836824185641 , 371.33451539734835\n",
      "0.24970982698311503 , 375.4300137208029\n",
      "0.25001065403224443 , 374.33681076289156\n",
      "0.2503859934712209 , 372.97283040907246\n",
      "0.25026196916037713 , 373.42353370806006\n",
      "0.24934986912812762 , 376.7380975282081\n",
      "0.24940993525985136 , 376.5198177124113\n",
      "0.2492718052762659 , 377.02178090710686\n",
      "0.24916955345439326 , 377.39336316490756\n",
      "0.24910830022953998 , 377.6159568671195\n",
      "0.24902215853141504 , 377.92899507117136\n",
      "0.2490963005365572 , 377.65956365015563\n",
      "0.24954354789705563 , 376.0342705163438\n",
      "0.2488567840718407 , 378.5299644616995\n",
      "0.24907011511974345 , 377.75472123388295\n",
      "0.2490541157329612 , 377.8128628704336\n",
      "0.250395249824641 , 372.9391928988565\n",
      "0.24884821329828832 , 378.56111058046156\n",
      "0.24875335175110386 , 378.9058366424106\n",
      "0.24931672577659297 , 376.8585401879943\n",
      "0.24928915206249247 , 376.95874283234593\n",
      "0.249299400967132 , 376.9214983993746\n",
      "0.25218295642189165 , 366.4426822105793\n",
      "0.25197274948067655 , 367.2065724610567\n",
      "0.25211831924351624 , 366.6775731713341\n",
      "0.25069219784487606 , 371.86008629921275\n",
      "0.2507940024859373 , 371.4901290927071\n",
      "0.25167849269960096 , 368.2758991203058\n",
      "0.2518068238010439 , 367.809544980625\n",
      "0.2518493216258088 , 367.6551082440608\n",
      "0.2515064732062162 , 368.9010165076247\n",
      "0.2519154598562986 , 367.4147624725895\n",
      "0.2517994419715709 , 367.83637048663604\n",
      "0.25184025728537485 , 367.6880479807055\n",
      "0.2515504840148999 , 368.74108160026753\n",
      "0.25282092419966384 , 364.1243126898495\n",
      "0.2519596801465236 , 367.2540663110789\n",
      "0.2531694563280585 , 362.8577498764628\n",
      "0.2537303780910826 , 360.81936492315003\n",
      "0.25349358922414367 , 361.6798536673879\n",
      "0.2535099479671172 , 361.6204061334706\n",
      "0.25354567469353645 , 361.49057551115436\n",
      "0.2524776419211379 , 365.37179759311584\n",
      "0.252811340896116 , 364.1591383340706\n",
      "0.2560361442441639 , 352.44023018079497\n",
      "0.25689526584257805 , 349.3181895421292\n",
      "0.2567966697414657 , 349.67648694153684\n",
      "0.2578829076241608 , 345.72910764238736\n",
      "0.2575817503985224 , 346.8235104589461\n",
      "0.25761589809639884 , 346.69941801302923\n",
      "0.2565422390893954 , 350.6010857840662\n",
      "0.25658657202972274 , 350.43998025303426\n",
      "0.2563629381868898 , 351.2526637506836\n",
      "0.2569455256840363 , 349.13554570240365\n",
      "0.2576894107719317 , 346.43227357050296\n",
      "0.2579679794103413 , 345.41995748931276\n",
      "0.25980543568775377 , 338.74265688315586\n",
      "0.259698967789669 , 339.1295603263327\n",
      "0.26041298551918673 , 336.53482592273133\n",
      "0.26046523702265717 , 336.34494440006074\n",
      "0.2604537836662183 , 336.38656580070676\n",
      "0.2598295902158195 , 338.6548795320008\n",
      "0.25888497956532025 , 342.08758666451706\n",
      "0.25901948463537605 , 341.5987963749982\n",
      "0.2605670669142441 , 335.9748954333578\n",
      "0.26065579869979044 , 335.65244487347377\n",
      "0.2604723196620546 , 336.3192061482596\n",
      "0.2613287472626384 , 333.2069554749752\n",
      "0.2613684297674717 , 333.0627495872843\n",
      "0.26231587724921734 , 329.6197334339581\n",
      "0.26266494505241406 , 328.35122398286114\n",
      "0.26342933948939945 , 325.57342104944223\n"
     ]
    }
   ],
   "source": [
    "import numpy as np\n",
    "mean_X = np.mean(X)\n",
    "mean_Y = np.mean(Y)\n",
    "n = len(X)\n",
    "num =0\n",
    "denom =0\n",
    "for i in range(n):\n",
    "    num +=(X[i]-mean_X)*(Y[i]-mean_Y)\n",
    "    denom +=(X[i]-mean_X)**2\n",
    "    m = num/denom\n",
    "    c = mean_Y - (m*mean_X)\n",
    "    print(m,',',c)"
   ]
  },
  {
   "cell_type": "code",
   "execution_count": 32,
   "metadata": {},
   "outputs": [
    {
     "data": {
      "text/plain": [
       "<matplotlib.collections.PathCollection at 0x1a7187dcc70>"
      ]
     },
     "execution_count": 32,
     "metadata": {},
     "output_type": "execute_result"
    },
    {
     "data": {
      "image/png": "[encoded data removed]",
      "text/plain": [
       "<Figure size 432x288 with 1 Axes>"
      ]
     },
     "metadata": {
      "needs_background": "light"
     },
     "output_type": "display_data"
    }
   ],
   "source": [
    "plt.scatter(X,Y)"
   ]
  },
  {
   "cell_type": "code",
   "execution_count": 43,
   "metadata": {},
   "outputs": [],
   "source": [
    "from sklearn.linear_model import LinearRegression\n",
    "from sklearn.metrics import mean_squared_error\n",
    "X = X.reshape((n,1))"
   ]
  },
  {
   "cell_type": "code",
   "execution_count": 44,
   "metadata": {},
   "outputs": [
    {
     "data": {
      "text/plain": [
       "(237, 1)"
      ]
     },
     "execution_count": 44,
     "metadata": {},
     "output_type": "execute_result"
    }
   ],
   "source": [
    "X.shape"
   ]
  },
  {
   "cell_type": "code",
   "execution_count": 46,
   "metadata": {},
   "outputs": [
    {
     "data": {
      "text/plain": [
       "(237,)"
      ]
     },
     "execution_count": 46,
     "metadata": {},
     "output_type": "execute_result"
    }
   ],
   "source": [
    "Y.shape"
   ]
  },
  {
   "cell_type": "code",
   "execution_count": null,
   "metadata": {},
   "outputs": [],
   "source": []
  },
  {
   "cell_type": "code",
   "execution_count": 47,
   "metadata": {},
   "outputs": [],
   "source": [
    "lg = LinearRegression()"
   ]
  },
  {
   "cell_type": "code",
   "execution_count": 49,
   "metadata": {},
   "outputs": [
    {
     "data": {
      "text/plain": [
       "LinearRegression()"
      ]
     },
     "execution_count": 49,
     "metadata": {},
     "output_type": "execute_result"
    }
   ],
   "source": [
    "lg.fit(X,Y)"
   ]
  },
  {
   "cell_type": "code",
   "execution_count": 78,
   "metadata": {},
   "outputs": [],
   "source": [
    "y_pred = lg.predict(X)"
   ]
  },
  {
   "cell_type": "code",
   "execution_count": 79,
   "metadata": {},
   "outputs": [],
   "source": [
    "mse = mean_squared_error(Y,y_pred)"
   ]
  },
  {
   "cell_type": "code",
   "execution_count": 80,
   "metadata": {},
   "outputs": [],
   "source": [
    "rmse = np.sqrt(mse)"
   ]
  },
  {
   "cell_type": "code",
   "execution_count": 82,
   "metadata": {},
   "outputs": [],
   "source": [
    "r2score = lg.score(X,Y)"
   ]
  },
  {
   "cell_type": "code",
   "execution_count": 83,
   "metadata": {},
   "outputs": [
    {
     "name": "stdout",
     "output_type": "stream",
     "text": [
      "72.1206213783709\n"
     ]
    },
    {
     "ename": "NameError",
     "evalue": "name 'r2_score' is not defined",
     "output_type": "error",
     "traceback": [
      "\u001b[1;31m---------------------------------------------------------------------------\u001b[0m",
      "\u001b[1;31mNameError\u001b[0m                                 Traceback (most recent call last)",
      "\u001b[1;32m<ipython-input-83-3aaf44f89025>\u001b[0m in \u001b[0;36m<module>\u001b[1;34m\u001b[0m\n\u001b[0;32m      1\u001b[0m \u001b[0mprint\u001b[0m\u001b[1;33m(\u001b[0m\u001b[0mrmse\u001b[0m\u001b[1;33m)\u001b[0m\u001b[1;33m\u001b[0m\u001b[1;33m\u001b[0m\u001b[0m\n\u001b[1;32m----> 2\u001b[1;33m \u001b[0mprint\u001b[0m\u001b[1;33m(\u001b[0m\u001b[0mr2_score\u001b[0m\u001b[1;33m)\u001b[0m\u001b[1;33m\u001b[0m\u001b[1;33m\u001b[0m\u001b[0m\n\u001b[0m",
      "\u001b[1;31mNameError\u001b[0m: name 'r2_score' is not defined"
     ]
    }
   ],
   "source": [
    "print(rmse)\n",
    "print(r2_score)"
   ]
  },
  {
   "cell_type": "raw",
   "metadata": {},
   "source": []
  },
  {
   "cell_type": "code",
   "execution_count": 84,
   "metadata": {},
   "outputs": [
    {
     "data": {
      "text/plain": [
       "array([1425.9177721])"
      ]
     },
     "execution_count": 84,
     "metadata": {},
     "output_type": "execute_result"
    }
   ],
   "source": [
    "lg.predict([[4177]])"
   ]
  },
  {
   "cell_type": "code",
   "execution_count": 85,
   "metadata": {},
   "outputs": [
    {
     "data": {
      "text/plain": [
       "325.5734210494428"
      ]
     },
     "execution_count": 85,
     "metadata": {},
     "output_type": "execute_result"
    }
   ],
   "source": [
    "lg.intercept_"
   ]
  },
  {
   "cell_type": "code",
   "execution_count": null,
   "metadata": {},
   "outputs": [],
   "source": []
  }
 ],
 "metadata": {
  "kernelspec": {
   "display_name": "Python 3",
   "language": "python",
   "name": "python3"
  },
  "language_info": {
   "codemirror_mode": {
    "name": "ipython",
    "version": 3
   },
   "file_extension": ".py",
   "mimetype": "text/x-python",
   "name": "python",
   "nbconvert_exporter": "python",
   "pygments_lexer": "ipython3",
   "version": "3.8.3"
  }
 },
 "nbformat": 4,
 "nbformat_minor": 4
}
